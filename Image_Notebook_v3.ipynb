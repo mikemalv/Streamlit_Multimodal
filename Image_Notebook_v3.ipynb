{
 "metadata": {
  "kernelspec": {
   "display_name": "Streamlit Notebook",
   "name": "streamlit"
  },
  "lastEditStatus": {
   "notebookId": "w2svgr2225h7fgktbjxg",
   "authorId": "423695251541",
   "authorName": "MMALVEIRA",
   "authorEmail": "mike.malveira@snowflake.com",
   "sessionId": "4d947a43-ac52-4f66-a0b4-67b5daa9cc7e",
   "lastEditTime": 1750265497117
  }
 },
 "nbformat_minor": 5,
 "nbformat": 4,
 "cells": [
  {
   "cell_type": "markdown",
   "id": "e1520d21-fb04-493d-9d4a-4aeee81eac09",
   "metadata": {
    "name": "V3",
    "collapsed": false
   },
   "source": "# V3 *NEW* - USE FILE TYPE & MULTI IMAGE SUPPORT W/CLAUDE\n"
  },
  {
   "cell_type": "code",
   "id": "17486b93-e073-4707-b85c-3efb6f29e6a0",
   "metadata": {
    "language": "python",
    "name": "PYTHON_SHOW_IMAGES",
    "collapsed": true,
    "codeCollapsed": true
   },
   "outputs": [],
   "source": "# Define image in a stage and read the file\nimage=session.file.get_stream('@CALLAWAY_IMG_COMPLETE.PUBLIC.IMG_STAGE/ERD.jpg' , decompress=False).read() \n\n# Display the image\nst.image(image, width=1200)",
   "execution_count": null
  },
  {
   "cell_type": "code",
   "id": "cec0b118-37ae-4abc-8cba-f8877fda5aad",
   "metadata": {
    "language": "sql",
    "name": "SETUP_DB_TABLE_STAGE"
   },
   "outputs": [],
   "source": "/*\n-- Create database if it doesn't exist\nCREATE DATABASE IF NOT EXISTS CALLAWAY_IMG_COMPLETE;\n\n-- Use the database\nUSE DATABASE CALLAWAY_IMG_COMPLETE;\nUSE SCHEMA PUBLIC;\n\n-- Create stage for image storage\nCREATE OR REPLACE STAGE CALLAWAY_IMG_COMPLETE.PUBLIC.IMG_STAGE\n    FILE_FORMAT = (TYPE = 'CSV' FIELD_OPTIONALLY_ENCLOSED_BY = '\"')\n    COPY_OPTIONS = (ON_ERROR = 'CONTINUE');\n\n-- Enhanced main table with all new fields for comprehensive golf club analysis\nCREATE OR REPLACE TABLE CALLAWAY_IMG_COMPLETE.PUBLIC.CALLAWAY_CLUBS_FILE_V3 (\n    -- Basic identification\n    IMAGE_ID VARCHAR(255) PRIMARY KEY,\n    \n    -- Club details (existing fields)\n    CLUB_TYPE VARCHAR(50),\n    CLUB_NAME VARCHAR(255),\n    BRAND VARCHAR(50),\n    MODEL VARCHAR(100),\n    YEAR NUMBER(4,0),\n    CLUB_CATEGORY VARCHAR(50),\n    SHAFT_TYPE VARCHAR(50),\n    SHAFT_FLEX VARCHAR(20),\n    SHAFT_LABEL VARCHAR(100),                    -- Moved from enhanced\n    LOFT FLOAT,\n    HAND VARCHAR(10),\n    \n    -- *** NEW ENHANCED CLUB SPECIFICATION FIELDS ***\n    CLUB_SUB_TYPE VARCHAR(50),                   -- NEW: Iron type, wedge type, etc.\n    SET_COMPOSITION VARCHAR(100),                -- NEW: Set information\n    LIE_ANGLE FLOAT,                            -- NEW: Lie angle in degrees\n    FACE_ANGLE VARCHAR(20),                     -- NEW: Open/Closed/Neutral\n    BOUNCE_ANGLE FLOAT,                         -- NEW: Bounce angle for wedges\n    GRIND_TYPE VARCHAR(50),                     -- NEW: Sole grind type\n    MODEL_DESIGNATION VARCHAR(100),             -- NEW: Specific model variants\n    SHAFT_LENGTH_INCHES FLOAT,                  -- NEW: Shaft length\n    \n    -- *** NEW DETAILED CONDITION ASSESSMENT FIELDS ***\n    OVERALL_GRADE NUMBER(3,1),                  -- NEW: Overall grade 1-10\n    FACE_SOLE_WEAR_GRADE VARCHAR(20),          -- NEW: Face/sole wear grade\n    FACE_SOLE_WEAR_DESCRIPTION VARCHAR(500),   -- NEW: Detailed wear description\n    SCRATCHES_GRADE VARCHAR(20),               -- NEW: Scratch severity grade\n    SCRATCHES_DESCRIPTION VARCHAR(500),        -- NEW: Scratch details\n    SCRATCHES_LOCATIONS ARRAY,                 -- NEW: Array of scratch locations\n    PAINT_CHIPS_GRADE VARCHAR(20),             -- NEW: Paint chip grade\n    PAINT_CHIPS_DESCRIPTION VARCHAR(500),      -- NEW: Paint chip details\n    PAINT_CHIPS_LOCATIONS ARRAY,              -- NEW: Array of paint chip locations\n    PUTTER_PAINT_WEAR_GRADE VARCHAR(20),       -- NEW: Putter-specific paint wear\n    GRIP_CONDITION VARCHAR(50),                -- NEW: Grip condition assessment\n    \n    -- *** NEW MARKET VALUATION FIELDS ***\n    RETAIL_PRICE NUMBER(8,2),                  -- NEW: Current retail price\n    TRADE_IN_VALUE NUMBER(8,2),                -- NEW: Trade-in/resale value\n    MARKET_DEMAND VARCHAR(20),                 -- NEW: Market demand level\n    \n    -- *** NEW TECHNOLOGY AND FEATURES FIELDS ***\n    TECHNOLOGY_TAGS ARRAY,                     -- NEW: Array of technology features\n    SPECIAL_DESIGNATIONS ARRAY,                -- NEW: Array of special designations\n    \n    -- Analysis fields (existing)\n    CONFIDENCE_SCORE FLOAT,\n    CLASSIFICATION_NOTES VARCHAR(16777216),\n    CONDITION_ASSESSMENT VARCHAR(50),\n    ESTIMATED_PRICE_RANGE VARCHAR(50),\n    FEATURES VARIANT,\n    ANALYSIS_TIMESTAMP TIMESTAMP_LTZ(9) DEFAULT CURRENT_TIMESTAMP(),\n    \n    -- File metadata from DIRECTORY()\n    RELATIVE_PATH VARCHAR(16777216),\n    FILE_URL VARCHAR(16777216),\n    SIZE NUMBER,\n    LAST_MODIFIED TIMESTAMP_LTZ,\n    MD5 VARCHAR(32),\n    \n    -- Tracking fields\n    CREATED_BY VARCHAR(100) DEFAULT CURRENT_USER(),\n    CREATED_AT TIMESTAMP_LTZ(9) DEFAULT CURRENT_TIMESTAMP(),\n    UPDATED_AT TIMESTAMP_LTZ(9) DEFAULT CURRENT_TIMESTAMP(),\n    AI_MODEL VARCHAR(255)\n);\n\n-- *** NEW TABLE FOR MULTI-IMAGE REFERENCES V3 ***\nCREATE OR REPLACE TABLE CALLAWAY_IMG_COMPLETE.PUBLIC.IMAGE_REFERENCES_V3 (\n    IMG FILE, \n    REFERENCE_ID VARCHAR(255) PRIMARY KEY DEFAULT (UUID_STRING()),\n    PRIMARY_IMAGE_ID VARCHAR(255),\n    REFERENCE_IMAGE_PATH VARCHAR(500),\n    IMAGE_SEQUENCE NUMBER(3,0),\n    REFERENCE_TYPE VARCHAR(50), -- 'MULTI_ANGLE', 'SET_MEMBER', 'COMPARISON'\n    CREATED_AT TIMESTAMP_LTZ(9) DEFAULT CURRENT_TIMESTAMP(),\n    FOREIGN KEY (PRIMARY_IMAGE_ID) REFERENCES CALLAWAY_CLUBS_FILE_V3(IMAGE_ID)\n);\n\n-- *** NEW TABLE FOR DETAILED DEFECT OBSERVATIONS V3 ***\nCREATE OR REPLACE TABLE CALLAWAY_IMG_COMPLETE.PUBLIC.CLUB_DEFECT_OBSERVATIONS_V3 (\n    OBSERVATION_ID VARCHAR(255) PRIMARY KEY,\n    IMAGE_ID VARCHAR(255),  -- Changed from VARCHAR(600) to match the primary key\n    DEFECT_TYPE VARCHAR(600),\n    DEFECT_LOCATION VARCHAR(600),\n    DEFECT_SIZE VARCHAR(600),\n    DEFECT_LENGTH_MM FLOAT,\n    DEFECT_WIDTH_MM FLOAT,\n    DEFECT_DEPTH VARCHAR(600),\n    IMPACT_ON_PERFORMANCE VARCHAR(600),\n    CREATED_AT TIMESTAMP_LTZ(9) DEFAULT CURRENT_TIMESTAMP(),\n    FOREIGN KEY (IMAGE_ID) REFERENCES CALLAWAY_CLUBS_FILE_V3(IMAGE_ID)\n);",
   "execution_count": null
  },
  {
   "cell_type": "markdown",
   "id": "5b445ec1-6d53-400b-ba86-f3be40a0a0b2",
   "metadata": {
    "name": "cell25",
    "collapsed": false
   },
   "source": "# 💰 Snowflake Cortex AI Cost Analysis\n## 🚀 Executive Summary\n> **Bottom Line:** Processing golf club images with Snowflake Cortex AI costs less than **1 cent per image!** \n---\nI did 7 CORTEX.COMPLETE MULTIMODAL (see image for the count) runs today with 57 total images (also in same pic), here's the cost breakdown:\n- 0.1515 Total Credits (see attached image of a streamlit app which monitors AI cost looking at SNOWFLAKE.ACCOUNT_USAGE.CORTEX_FUNCTIONS_USAGE_HISTORY)\n- 0.1515 credits ÷ 7 queries = 0.0216 credits per query\n- 0.0216 credits × $2.40 / credit = $0.052 per query (about 5.2 cents per query)\n- 0.1515 credits × $2.40 / credit = $0.36 (36 cents total)\n- Average credits per query = 0.1515 ÷ 7 = 0.0216 credits\n- Cost per image = $0.36 ÷ 57 images = $0.006 (about 0.6 cents per image)"
  },
  {
   "cell_type": "code",
   "id": "9c97ad75-bfe6-4d8b-b6da-1d44ec7c50b0",
   "metadata": {
    "language": "sql",
    "name": "CONTEXT"
   },
   "outputs": [],
   "source": "USE ROLE ACCOUNTADMIN;",
   "execution_count": null
  },
  {
   "cell_type": "code",
   "id": "8fefb679-b50b-44a5-b745-61b9707d8194",
   "metadata": {
    "language": "python",
    "name": "IMPORTS"
   },
   "outputs": [],
   "source": "import streamlit as st\nimport pandas as pd\nimport snowbooks_extras\nimport streamlit as st\nfrom snowflake.snowpark.context import get_active_session\nsession = get_active_session()",
   "execution_count": null
  },
  {
   "cell_type": "code",
   "id": "2d0459ad-ad8f-4a1f-b900-2d8d4946b170",
   "metadata": {
    "language": "sql",
    "name": "ALL_IMAGES"
   },
   "outputs": [],
   "source": "SELECT * from CALLAWAY_IMG_COMPLETE.PUBLIC.IMAGE_REFERENCES_V3;",
   "execution_count": null
  },
  {
   "cell_type": "code",
   "id": "46b198fa-b7da-4a57-b34e-0c8cdddc04f6",
   "metadata": {
    "language": "sql",
    "name": "TOTAL_QUERIES_TODAY"
   },
   "outputs": [],
   "source": "SELECT COUNT(*) as TOTAL_QUERIES_TODAY\nFROM CALLAWAY_IMG_COMPLETE.PUBLIC.CALLAWAY_CLUBS_FILE_V3\nWHERE DATE(CREATED_AT) = CURRENT_DATE();",
   "execution_count": null
  },
  {
   "cell_type": "code",
   "id": "ed551bd8-a9a6-443a-b0f2-5936ede59e37",
   "metadata": {
    "language": "sql",
    "name": "TOTAL_IMAGES_PROCESSED"
   },
   "outputs": [],
   "source": "SELECT COUNT(*) as TOTAL_IMAGE_REFERENCES_TODAY\nFROM CALLAWAY_IMG_COMPLETE.PUBLIC.IMAGE_REFERENCES_V3\nWHERE DATE(CREATED_AT) = CURRENT_DATE();",
   "execution_count": null
  },
  {
   "cell_type": "code",
   "id": "e0e6ce01-7f10-42fd-a88f-792c9233444f",
   "metadata": {
    "language": "sql",
    "name": "cell27"
   },
   "outputs": [],
   "source": "SELECT * FROM CALLAWAY_IMG_COMPLETE.PUBLIC.CLUB_DEFECT_OBSERVATIONS_V3\nWHERE DATE(CREATED_AT) = CURRENT_DATE()\nORDER BY CREATED_AT DESC;",
   "execution_count": null
  },
  {
   "cell_type": "code",
   "id": "37de48fe-56aa-4f6a-a273-d2def4d084f5",
   "metadata": {
    "language": "sql",
    "name": "ALL_FILE_DATA",
    "collapsed": true,
    "codeCollapsed": true
   },
   "outputs": [],
   "source": "SELECT * FROM CALLAWAY_IMG_COMPLETE.PUBLIC.CALLAWAY_CLUBS_FILE_V3\nORDER BY ANALYSIS_TIMESTAMP DESC;",
   "execution_count": null
  },
  {
   "cell_type": "code",
   "id": "5efda59d-7520-45d3-a629-cc478876871f",
   "metadata": {
    "language": "sql",
    "name": "REFERENCE_DATA",
    "codeCollapsed": true,
    "collapsed": true
   },
   "outputs": [],
   "source": "SELECT * FROM  CALLAWAY_IMG_COMPLETE.PUBLIC.IMAGE_REFERENCES_V3 \nWHERE DATE(CREATED_AT) = CURRENT_DATE()\nORDER BY CREATED_AT DESC;",
   "execution_count": null
  },
  {
   "cell_type": "code",
   "id": "d3008303-fd9d-414c-8d23-0aa34d9ff9bf",
   "metadata": {
    "language": "sql",
    "name": "cell22"
   },
   "outputs": [],
   "source": "--openai-gpt-4.1\n--openai-o4-mini\n--claude-4-opus\n--claude-4-sonnet\n--claude-3-7-sonnet\n--claude-3-5-sonnet\n--llama-4-maverick\n--llama-4-scout\n--pixtral-large\n-- SELECT SNOWFLAKE.CORTEX.COMPLETE('claude-4-sonnet',\n\nSELECT SNOWFLAKE.CORTEX.AI_COMPLETE('openai-gpt-4.1',\nPROMPT('Analyze image {0}, image {1}, image {2}, image {3}, image {4}, image {5}, image {6}, image {7} of the same golf club comprehensively and extract ALL possible information. Return ONLY valid JSON with this complete structure:\n    [\n    \"club_type\": \"driver/fairway_wood/hybrid/iron/wedge/putter\",\n    \"club_name\": \"full descriptive name\",\n    \"brand\": \"manufacturer name\", \n    \"model\": \"specific model name\",\n    \"year\": 2023,\n    \"club_category\": \"game_improvement/players/distance/forgiveness\",\n    \"shaft_type\": \"steel/graphite/hybrid\",\n    \"shaft_flex\": \"extra_stiff/stiff/regular/senior/ladies\",\n    \"shaft_label\": \"shaft brand and model if visible\",\n    \"loft\": 10.5,\n    \"hand\": \"right/left\",\n    \"club_sub_type\": \"cavity_back/blade/mallet/etc\",\n    \"set_composition\": \"individual/set_member/part_of_set\",\n    \"lie_angle\": 59.0,\n    \"face_angle\": \"neutral/open/closed\",\n    \"bounce_angle\": 12.0,\n    \"grind_type\": \"sole_grind_if_wedge\",\n    \"model_designation\": \"specific_variant_or_edition\",\n    \"shaft_length_inches\": 45.0,\n    \"overall_grade\": 8.5,\n    \"face_sole_wear_grade\": \"excellent/very_good/good/fair/poor\",\n    \"face_sole_wear_description\": \"detailed description of face and sole condition including groove wear, impact marks, etc\",\n    \"scratches_grade\": \"none/minor/moderate/severe\",\n    \"scratches_description\": \"detailed description of all visible scratches, their location and severity\",\n    \"scratches_locations\": [\"face\", \"sole\", \"crown\", \"back\"],\n    \"paint_chips_grade\": \"none/minor/moderate/severe\", \n    \"paint_chips_description\": \"detailed description of paint/finish condition\",\n    \"paint_chips_locations\": [\"crown\", \"sole\", \"back\"],\n    \"putter_paint_wear_grade\": \"excellent/good/fair/poor\",\n    \"grip_condition\": \"excellent/very_good/good/fair/poor/needs_replacement\",\n    \"retail_price\": 399.99,\n    \"trade_in_value\": 150.00,\n    \"market_demand\": \"high/medium/low\",\n    \"technology_tags\": [\"technology_1\", \"technology_2\", \"specific_features\"],\n    \"special_designations\": [\"tour_issue\", \"limited_edition\", \"custom\", \"prototype\"],\n    \"confidence_score\": 0.95,\n    \"classification_notes\": \"comprehensive summary including distinguishing features, unique markings, condition assessment, technology features, and any special characteristics observed across all images\",\n    \"condition_assessment\": \"excellent/very_good/good/fair/poor\",\n    \"estimated_price_range\": \"$150-200\",\n    \"features\": [\n        \"adjustable\": true,\n        \"forged\": false,\n        \"cavity_back\": true,\n        \"face_insert\": false,\n        \"weight_ports\": true,\n        \"alignment_aids\": false,\n        \"special_technology\": \"brief_description\"\n    ]]\n    \n    Use proper JSON syntax with curly braces in your response, not square brackets. Grade condition 1-10 scale. Examine all angles for comprehensive analysis. Extract maximum data from all images provided.', \n        TO_FILE('@IMG_STAGE', 'W1.JPG'),\n        TO_FILE('@IMG_STAGE', 'W2.JPG'),\n        TO_FILE('@IMG_STAGE', 'W3.JPG'),\n        TO_FILE('@IMG_STAGE', 'W4.JPG'),\n        TO_FILE('@IMG_STAGE', 'W5.JPG'),\n        TO_FILE('@IMG_STAGE', 'W6.JPG'),\n        TO_FILE('@IMG_STAGE', 'W7.JPG'),\n        TO_FILE('@IMG_STAGE', 'W8.JPG'))\n);",
   "execution_count": null
  },
  {
   "cell_type": "code",
   "id": "3e2ce45d-069e-49a1-8d35-9797251633b2",
   "metadata": {
    "language": "sql",
    "name": "cell28",
    "codeCollapsed": false
   },
   "outputs": [],
   "source": "SELECT SNOWFLAKE.CORTEX.COMPLETE(\n    'claude-4-sonnet',\n    PROMPT('Analyze image {0}, image {1}, image {2}, and image {3} of the same golf club. Identify brand, model, type, loft, and grade condition 1-10. Return JSON with club_type, brand, model, loft, overall_grade, condition_assessment, estimated_price_range.', TO_FILE('@IMG_STAGE', 'Opus_1.jpg'), \nTO_FILE('@IMG_STAGE', 'Opus_2.jpg'), \nTO_FILE('@IMG_STAGE', 'Opus_3.jpg'), \nTO_FILE('@IMG_STAGE', 'Opus_4.jpg'))\n)",
   "execution_count": null
  },
  {
   "cell_type": "code",
   "id": "c3cc1736-27c4-4729-b911-5e0b3f72541d",
   "metadata": {
    "language": "sql",
    "name": "cell26"
   },
   "outputs": [],
   "source": "SELECT \n    SERVICE_TYPE,\n    DATE_TRUNC('MONTH', END_TIME) as MONTH,\n    SUM(CREDITS_USED) as TOTAL_CREDITS,\n    COUNT(DISTINCT DATE(END_TIME)) as DAYS_WITH_USAGE,\n    ROUND(SUM(CREDITS_USED) / COUNT(DISTINCT DATE(END_TIME)), 2) as AVG_DAILY_CREDITS\nFROM SNOWFLAKE.ACCOUNT_USAGE.METERING_HISTORY\nWHERE END_TIME >= DATEADD('MONTH', -1, CURRENT_DATE)\nGROUP BY 1, 2\nORDER BY 3 DESC;",
   "execution_count": null
  }
 ]
}