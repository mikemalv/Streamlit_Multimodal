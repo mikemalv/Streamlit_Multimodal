{
 "metadata": {
  "kernelspec": {
   "display_name": "Streamlit Notebook",
   "name": "streamlit"
  },
  "lastEditStatus": {
   "notebookId": "4llkrafyhlwkjhxsn5ts",
   "authorId": "423695251541",
   "authorName": "MMALVEIRA",
   "authorEmail": "mike.malveira@snowflake.com",
   "sessionId": "0df1dab9-33f4-4690-b1cb-6d0fae84591b",
   "lastEditTime": 1748630097754
  }
 },
 "nbformat_minor": 5,
 "nbformat": 4,
 "cells": [
  {
   "cell_type": "markdown",
   "id": "9c389fae-4c34-43f5-9d04-56397e9ffe7d",
   "metadata": {
    "name": "cell30",
    "collapsed": false
   },
   "source": "## SKIP TO V3 at the bottom\n\n## V1 V2 are out dated"
  },
  {
   "cell_type": "markdown",
   "id": "5ecb5265-ab02-47f5-b6c3-e0fcbbe28dee",
   "metadata": {
    "name": "V1",
    "collapsed": true
   },
   "source": "## V1 -  CORTEX MULTIMODAL IMAGES FOR CALLAWAY"
  },
  {
   "cell_type": "code",
   "id": "c695373e-ac74-4b62-a1f1-08206cbd5c81",
   "metadata": {
    "language": "sql",
    "name": "MANUAL_UPLOAD",
    "collapsed": true,
    "codeCollapsed": true
   },
   "source": "USE DATABASE CALLAWAY_IMG_COMPLETE;\nUSE SCHEMA PUBLIC;\nSELECT SNOWFLAKE.CORTEX.COMPLETE('claude-3-5-sonnet', \n    'Summarize the golf club image and try to detect the club type, name, brand, model, shaft type, shaft flex, loft, hand (left or righty), classification notes, condition assessment and estimated price range',\n    TO_FILE('@IMG_STAGE', 'CLWY_BB_1_MANUAL.jpg'));",
   "execution_count": null,
   "outputs": []
  },
  {
   "cell_type": "code",
   "id": "d74f782d-b6c1-4fff-a275-7c81f1da4a9f",
   "metadata": {
    "language": "sql",
    "name": "cell14",
    "collapsed": false,
    "codeCollapsed": false
   },
   "outputs": [],
   "source": "USE DATABASE CALLAWAY_IMG_COMPLETE;\nUSE SCHEMA PUBLIC;\nSELECT SNOWFLAKE.CORTEX.COMPLETE('claude-3-5-sonnet', \n    'Summarize the golf club image and try to detect the club type, name, brand, model, shaft type, shaft flex, loft, hand (left or righty), classification notes, condition assessment and estimated price range. Can you also find out what year or era the club may be from? ',\n    TO_FILE('@IMG_STAGE', 'GC10.jpg'));",
   "execution_count": null
  },
  {
   "cell_type": "code",
   "id": "1a4afeac-3544-4e5b-ae60-c578c1085d9b",
   "metadata": {
    "language": "sql",
    "name": "cell3",
    "collapsed": false,
    "codeCollapsed": false
   },
   "outputs": [],
   "source": "USE DATABASE CALLAWAY_IMG_COMPLETE;\nUSE SCHEMA PUBLIC;\nSELECT SNOWFLAKE.CORTEX.COMPLETE('pixtral-large', \n    'Summarize the golf club image and try to detect the club type, name, brand, model, shaft type, shaft flex, loft, hand (left or righty), classification notes, condition assessment and estimated price range. Can you also find out what year or era the club may be from?',\n    TO_FILE('@IMG_STAGE', 'GC10.jpg'));",
   "execution_count": null
  },
  {
   "cell_type": "code",
   "id": "c6a1bf67-4d09-4aab-ae04-0a2c3b1112f6",
   "metadata": {
    "language": "sql",
    "name": "SElECT_COMPLETE",
    "collapsed": false,
    "codeCollapsed": false
   },
   "outputs": [],
   "source": "SELECT SNOWFLAKE.CORTEX.COMPLETE('claude-3-5-sonnet','Please analyze this golf club image and provide the following:\n    \"club_type\": \"driver/iron/wedge/putter/hybrid/etc\",\n    \"club_name\": \"full name\",\n    \"brand\": \"manufacturer name\",\n    \"model\": \"specific model\",\n    \"year\": \"estimated year or range as number\",\n    \"club_category\": \"game improvement/players/etc\",\n    \"shaft_type\": \"steel/graphite/etc\",\n    \"shaft_flex\": \"regular/stiff/extra-stiff/etc\",\n    \"loft\": \"degree as number only\",\n    \"hand\": \"left/right\",\n    \"confidence_score\": \"number between 0 and 1\",\n    \"classification_notes\": \"detailed observations about distinguishing features\",\n    \"condition_assessment\": \"excellent/good/fair/poor\",\n    \"estimated_price_range\": \"low-high in dollars\",\n    \"features\": {\n        \"adjustable\": \"yes/no\",\n        \"forged\": \"yes/no\",\n        \"cavity_back\": \"yes/no\",\n        \"special_technology\": \"brief description\"}\n    Provide high confidence answers when possible. If you cannot determine a value, use null instead of \n    guessing.',\n\n    TO_FILE('@IMG_STAGE', 'GC10.jpg'));",
   "execution_count": null
  },
  {
   "cell_type": "code",
   "id": "aa475024-b9c3-440b-bc86-c30ecebc091b",
   "metadata": {
    "language": "sql",
    "name": "cell10"
   },
   "outputs": [],
   "source": "",
   "execution_count": null
  },
  {
   "cell_type": "code",
   "id": "c5334870-001d-444f-ae0a-f8fe200a3607",
   "metadata": {
    "language": "sql",
    "name": "cell5"
   },
   "outputs": [],
   "source": "SELECT SNOWFLAKE.CORTEX.COMPLETE('claude-4-sonnet','Please analyze this golf club image and provide the following:\n    \"club_type\": \"driver/iron/wedge/putter/hybrid/etc\",\n    \"club_name\": \"full name\",\n    \"brand\": \"manufacturer name\",\n    \"model\": \"specific model\",\n    \"year\": \"estimated year or range as number\",\n    \"club_category\": \"game improvement/players/etc\",\n    \"shaft_type\": \"steel/graphite/etc\",\n    \"shaft_flex\": \"regular/stiff/extra-stiff/etc\",\n    \"loft\": \"degree as number only\",\n    \"hand\": \"left/right\",\n    \"confidence_score\": \"number between 0 and 1\",\n    \"classification_notes\": \"detailed observations about distinguishing features\",\n    \"condition_assessment\": \"excellent/good/fair/poor\",\n    \"estimated_price_range\": \"low-high in dollars\",\n    \"features\": {\n        \"adjustable\": \"yes/no\",\n        \"forged\": \"yes/no\",\n        \"cavity_back\": \"yes/no\",\n        \"special_technology\": \"brief description\"}\n    Provide high confidence answers when possible. If you cannot determine a value, use null instead of \n    guessing.',\n\n    TO_FILE('@IMG_STAGE', 'GC10.jpg'));",
   "execution_count": null
  },
  {
   "cell_type": "code",
   "id": "bd1f9e9b-f837-4dcc-9bc3-86b7a16b4634",
   "metadata": {
    "language": "sql",
    "name": "cell21"
   },
   "outputs": [],
   "source": "SELECT SNOWFLAKE.CORTEX.COMPLETE('claude-4-sonnet', 'Where is Snowflake HQ and what is the latest stock price');",
   "execution_count": null
  },
  {
   "cell_type": "code",
   "id": "c29439b8-80a2-4752-8bf0-920237b3086a",
   "metadata": {
    "language": "sql",
    "name": "SELECT_TO_FILE",
    "collapsed": false,
    "codeCollapsed": false
   },
   "outputs": [],
   "source": "--SELECT TO_FILE('@IMG_STAGE', 'CLWY_BB_1.jpg');\n\nSELECT TO_FILE('@IMG_STAGE', 'GC_15.png');",
   "execution_count": null
  },
  {
   "cell_type": "code",
   "id": "96d9c379-ec80-463a-b67b-e678ef007420",
   "metadata": {
    "language": "sql",
    "name": "STAGE_LIST",
    "collapsed": false,
    "codeCollapsed": false
   },
   "outputs": [],
   "source": "LS @IMG_STAGE;",
   "execution_count": null
  },
  {
   "cell_type": "code",
   "id": "b13da11f-7ea9-46cc-9a46-f8feed404565",
   "metadata": {
    "language": "sql",
    "name": "cell6",
    "codeCollapsed": false,
    "collapsed": false
   },
   "outputs": [],
   "source": "select * from CALLAWAY_IMG_COMPLETE.PUBLIC.CALLAWAY_CLUBS order by analysis_timestamp DESC ;",
   "execution_count": null
  },
  {
   "cell_type": "code",
   "id": "f1471d51-6611-42a6-a8cc-3430d8d8e19c",
   "metadata": {
    "language": "sql",
    "name": "cell13",
    "collapsed": true,
    "codeCollapsed": true
   },
   "outputs": [],
   "source": "\n-- NOTE THIS IS NOT USING THE NEW FILE / UNSTRUCTERED FIELD FOR IMAGES\ncreate or replace TABLE CALLAWAY_IMG_COMPLETE.PUBLIC.CALLAWAY_CLUBS (\n\tANALYSIS_ID NUMBER(38,0) NOT NULL autoincrement start 1 increment 1 noorder,\n\tIMAGE_ID VARCHAR(500),\n\tANALYSIS_TIMESTAMP TIMESTAMP_LTZ(9) DEFAULT CURRENT_TIMESTAMP(),\n\tCLUB_TYPE VARCHAR(500),\n\tCLUB_NAME VARCHAR(500),\n\tBRAND VARCHAR(500),\n\tMODEL VARCHAR(500),\n\tYEAR VARCHAR(500),\n\tCLUB_CATEGORY VARCHAR(500),\n\tSHAFT_TYPE VARCHAR(500),\n\tSHAFT_FLEX VARCHAR(500),\n\tLOFT FLOAT,\n\tHAND VARCHAR(500),\n\tCONFIDENCE_SCORE FLOAT,\n\tCLASSIFICATION_NOTES VARCHAR(16777216),\n\tCONDITION_ASSESSMENT VARCHAR(500),\n\tESTIMATED_PRICE_RANGE VARCHAR(500),\n\tFEATURES VARIANT,\n\tCREATED_BY VARCHAR(500) DEFAULT CURRENT_USER(),\n\tCREATED_AT TIMESTAMP_LTZ(9) DEFAULT CURRENT_TIMESTAMP(),\n\tUPDATED_AT TIMESTAMP_LTZ(9) DEFAULT CURRENT_TIMESTAMP(),\n\tprimary key (ANALYSIS_ID)\n);",
   "execution_count": null
  },
  {
   "cell_type": "code",
   "id": "9ca3d694-6803-4099-95ac-97fd1207b3bd",
   "metadata": {
    "language": "sql",
    "name": "cell15",
    "collapsed": true,
    "codeCollapsed": true
   },
   "outputs": [],
   "source": "ALTER TABLE CALLAWAY_IMG_COMPLETE.PUBLIC.CALLAWAY_CLUBS ALTER (\n  IMAGE_ID SET DATA TYPE VARCHAR(500),\n  CLUB_TYPE SET DATA TYPE VARCHAR(500),\n  CLUB_NAME SET DATA TYPE VARCHAR(500),\n  BRAND SET DATA TYPE VARCHAR(500),\n  MODEL SET DATA TYPE VARCHAR(500),\n  CLUB_CATEGORY SET DATA TYPE VARCHAR(500),\n  SHAFT_TYPE SET DATA TYPE VARCHAR(500),\n  SHAFT_FLEX SET DATA TYPE VARCHAR(500),\n  HAND SET DATA TYPE VARCHAR(500),\n  CONDITION_ASSESSMENT SET DATA TYPE VARCHAR(500),\n  ESTIMATED_PRICE_RANGE SET DATA TYPE VARCHAR(500),\n  CREATED_BY SET DATA TYPE VARCHAR(500)\n);",
   "execution_count": null
  },
  {
   "cell_type": "code",
   "id": "5e654b03-1ae3-47ca-ae8a-49851c70df34",
   "metadata": {
    "language": "sql",
    "name": "Truncate",
    "collapsed": true,
    "codeCollapsed": true
   },
   "outputs": [],
   "source": "truncate table CALLAWAY_IMG_COMPLETE.PUBLIC.CALLAWAY_CLUBS;",
   "execution_count": null
  },
  {
   "cell_type": "code",
   "id": "d10536f7-94ea-4d4c-9c4f-16b96d12d623",
   "metadata": {
    "language": "sql",
    "name": "Delete",
    "collapsed": true,
    "codeCollapsed": true
   },
   "outputs": [],
   "source": "DELETE FROM CALLAWAY_IMG_COMPLETE.PUBLIC.CALLAWAY_CLUBS\nWHERE  analysis_id = 204;",
   "execution_count": null
  },
  {
   "cell_type": "markdown",
   "id": "1e2ff476-999e-417e-9786-2023c581a096",
   "metadata": {
    "name": "V2",
    "collapsed": false
   },
   "source": "# *NEW* - USE FILE TYPE\n\n## This Demo will go over uploading an IMG directly to Snowflake and processing the data using `AI SQL` Functions"
  },
  {
   "cell_type": "code",
   "id": "1e3c65d7-484e-4192-b515-e083ec26940f",
   "metadata": {
    "language": "sql",
    "name": "cell4"
   },
   "outputs": [],
   "source": "USE ROLE ACCOUNTADMIN;",
   "execution_count": null
  },
  {
   "cell_type": "code",
   "id": "b62401f9-233d-4435-bc5b-a5c8a842c1ae",
   "metadata": {
    "language": "python",
    "name": "SNOWBOOK_EXTRA_SHOW_IMG"
   },
   "outputs": [],
   "source": "import streamlit as st\nimport pandas as pd\nimport snowbooks_extras",
   "execution_count": null
  },
  {
   "cell_type": "code",
   "id": "7c0a6121-20b1-4aa7-8b00-4d12f75d9cc0",
   "metadata": {
    "language": "sql",
    "name": "cell2",
    "collapsed": true,
    "codeCollapsed": true
   },
   "outputs": [],
   "source": "create or replace TABLE CALLAWAY_IMG_COMPLETE.PUBLIC.CALLAWAY_CLUBS_FILE (\n\tANALYSIS_ID NUMBER(38,0) NOT NULL autoincrement start 1 increment 1 noorder,\n\tIMAGE_ID VARCHAR(255),\n    img FILE,\n\tANALYSIS_TIMESTAMP TIMESTAMP_LTZ(9) DEFAULT CURRENT_TIMESTAMP(),\n\tCLUB_TYPE VARCHAR(50),\n\tCLUB_NAME VARCHAR(255),\n\tBRAND VARCHAR(50),\n\tMODEL VARCHAR(100),\n\tYEAR NUMBER(4,0),\n\tCLUB_CATEGORY VARCHAR(50),\n\tSHAFT_TYPE VARCHAR(50),\n\tSHAFT_FLEX VARCHAR(20),\n\tLOFT FLOAT,\n\tHAND VARCHAR(10),\n\tCONFIDENCE_SCORE FLOAT,\n\tCLASSIFICATION_NOTES VARCHAR(16777216),\n\tCONDITION_ASSESSMENT VARCHAR(50),\n\tESTIMATED_PRICE_RANGE VARCHAR(50),\n\tFEATURES VARIANT,\n\tCREATED_BY VARCHAR(100) DEFAULT CURRENT_USER(),\n\tCREATED_AT TIMESTAMP_LTZ(9) DEFAULT CURRENT_TIMESTAMP(),\n\tUPDATED_AT TIMESTAMP_LTZ(9) DEFAULT CURRENT_TIMESTAMP(),\n\tprimary key (ANALYSIS_ID)\n);",
   "execution_count": null
  },
  {
   "cell_type": "code",
   "id": "02f40d1f-30f2-4877-a288-aa8f0a4836d1",
   "metadata": {
    "language": "sql",
    "name": "CREATE_TABLE_W_FILE"
   },
   "outputs": [],
   "source": "/*\nCREATE TABLE CALLAWAY_IMG_COMPLETE.PUBLIC.CALLAWAY_CLUBS_FILE (\n    -- Image as first column\n    IMG FILE,\n    \n    -- Basic identification\n    IMAGE_ID VARCHAR(255),\n    \n    -- Club details\n    CLUB_TYPE VARCHAR(50),\n    CLUB_NAME VARCHAR(255),\n    BRAND VARCHAR(50),\n    MODEL VARCHAR(100),\n    YEAR NUMBER(4,0),\n    CLUB_CATEGORY VARCHAR(50),\n    SHAFT_TYPE VARCHAR(50),\n    SHAFT_FLEX VARCHAR(20),\n    LOFT FLOAT,\n    HAND VARCHAR(10),\n    \n    -- Analysis fields\n    CONFIDENCE_SCORE FLOAT,\n    CLASSIFICATION_NOTES VARCHAR(16777216),\n    CONDITION_ASSESSMENT VARCHAR(50),\n    ESTIMATED_PRICE_RANGE VARCHAR(50),\n    FEATURES VARIANT,\n    ANALYSIS_TIMESTAMP TIMESTAMP_LTZ(9) DEFAULT CURRENT_TIMESTAMP(),\n    \n    -- File metadata from DIRECTORY()\n    RELATIVE_PATH VARCHAR(16777216),\n    FILE_URL VARCHAR(16777216),\n    SIZE NUMBER,\n    LAST_MODIFIED TIMESTAMP_LTZ,\n    MD5 VARCHAR(32),\n    \n    -- Tracking fields\n    CREATED_BY VARCHAR(100) DEFAULT CURRENT_USER(),\n    CREATED_AT TIMESTAMP_LTZ(9) DEFAULT CURRENT_TIMESTAMP(),\n    UPDATED_AT TIMESTAMP_LTZ(9) DEFAULT CURRENT_TIMESTAMP(),\n\n    -- AI Model\n    AI_MODEL VARCHAR(255)\n);\n*/",
   "execution_count": null
  },
  {
   "cell_type": "code",
   "id": "950a543b-84c7-4ffe-a8c2-a4431b5f08f7",
   "metadata": {
    "language": "sql",
    "name": "cell7",
    "collapsed": true,
    "codeCollapsed": true
   },
   "outputs": [],
   "source": "ALTER TABLE CALLAWAY_IMG_COMPLETE.PUBLIC.CALLAWAY_CLUBS_FILE\nADD COLUMN AI_MODEL VARCHAR(255);",
   "execution_count": null
  },
  {
   "cell_type": "code",
   "id": "63ad40b6-556b-4d91-951f-247f7c4ce8a4",
   "metadata": {
    "language": "sql",
    "name": "cell8"
   },
   "outputs": [],
   "source": "ls @CALLAWAY_IMG_COMPLETE.PUBLIC.IMG_STAGE;",
   "execution_count": null
  },
  {
   "cell_type": "code",
   "id": "40e01c29-9f77-4c6d-a9f1-1e9caeb7464c",
   "metadata": {
    "language": "sql",
    "name": "INSERT",
    "collapsed": true,
    "codeCollapsed": true
   },
   "outputs": [],
   "source": "INSERT INTO CALLAWAY_IMG_COMPLETE.PUBLIC.CALLAWAY_CLUBS_FILE (\n    IMG,\n    IMAGE_ID,\n    CLUB_TYPE,  -- Changed to CLUB_TYPE as your table likely doesn't have RELATIVE_PATH\n    CLUB_NAME,  -- Changed to CLUB_NAME as your table likely doesn't have FILE_URL\n    BRAND,      -- Changed to BRAND as your table likely doesn't have SIZE\n    MODEL,      -- Changed to MODEL as your table likely doesn't have LAST_MODIFIED\n    YEAR        -- Changed to YEAR as your table likely doesn't have MD5\n)\nSELECT \n    TO_FILE(file_url) AS IMG,\n    -- Extract filename without extension as IMAGE_ID\n    REGEXP_REPLACE(\n        SPLIT_PART(relative_path, '/', -1),\n        '\\\\.jpg$|\\\\.jpeg$|\\\\.png$|\\\\.gif$', ''\n    ) AS IMAGE_ID,\n    NULL AS CLUB_TYPE,\n    NULL AS CLUB_NAME,\n    NULL AS BRAND,\n    NULL AS MODEL,\n    NULL AS YEAR\nFROM \n    DIRECTORY(@CALLAWAY_IMG_COMPLETE.PUBLIC.IMG_STAGE)\nWHERE \n    REGEXP_LIKE(relative_path, '.*\\\\.(jpg|jpeg|png|gif)$', 'i');",
   "execution_count": null
  },
  {
   "cell_type": "code",
   "id": "6fdeacba-ed7b-48bc-9b71-0fd6ca4522a6",
   "metadata": {
    "language": "sql",
    "name": "SELECT",
    "collapsed": true,
    "codeCollapsed": true
   },
   "outputs": [],
   "source": "SELECT \n  relative_path,\n  file_url,\n  size,\n  last_modified\nFROM \n  DIRECTORY(@CALLAWAY_IMG_COMPLETE.PUBLIC.IMG_STAGE)\nORDER BY\n  last_modified DESC;",
   "execution_count": null
  },
  {
   "cell_type": "code",
   "id": "b25767b9-223c-45a2-81bc-f2309f9fe13a",
   "metadata": {
    "language": "sql",
    "name": "INSERT_ALL_IMAGES_FROM_STG",
    "collapsed": true,
    "codeCollapsed": true
   },
   "outputs": [],
   "source": "INSERT INTO CALLAWAY_IMG_COMPLETE.PUBLIC.CALLAWAY_CLUBS_FILE (\n    IMAGE_ID,\n    img\n)\nSELECT\n    -- Extract filename and remove extension\n    REGEXP_REPLACE(\n        SPLIT_PART(relative_path, '/', -1),    -- Get last part after splitting by '/'\n        '\\\\.jpg$|\\\\.jpeg$|\\\\.png$', ''        -- Remove file extension (note escaped dots)\n    ) AS IMAGE_ID,\n    TO_FILE(file_url) AS img\nFROM \n    DIRECTORY(@CALLAWAY_IMG_COMPLETE.PUBLIC.IMG_STAGE)\nWHERE \n    REGEXP_LIKE(relative_path, '.*\\\\.(jpg|jpeg|png)$', 'i');  -- Using 'i' as separate parameter for case insensitivity",
   "execution_count": null
  },
  {
   "cell_type": "code",
   "id": "d7272c39-7c0e-4d44-a96c-54f48a00badf",
   "metadata": {
    "language": "sql",
    "name": "cell12"
   },
   "outputs": [],
   "source": "SELECT * FROM CALLAWAY_IMG_COMPLETE.PUBLIC.CALLAWAY_CLUBS_FILE ORDER BY CREATED_AT DESC;",
   "execution_count": null
  },
  {
   "cell_type": "code",
   "id": "febe773f-576b-4e70-8a56-e5b3b0c314de",
   "metadata": {
    "language": "sql",
    "name": "cell16"
   },
   "outputs": [],
   "source": "CREATE OR REPLACE TABLE CALLAWAY_IMG_COMPLETE.PUBLIC.CALLAWAY_CLUBS_FILTERED AS\nSELECT \n    -- Club details\n    CLUB_TYPE,\n    CLUB_NAME,\n    BRAND,\n    MODEL,\n    YEAR,\n    CLUB_CATEGORY,\n    SHAFT_TYPE,\n    SHAFT_FLEX,\n    LOFT,\n    HAND,\n    \n    -- Analysis fields\n    CONFIDENCE_SCORE,\n    CLASSIFICATION_NOTES,\n    CONDITION_ASSESSMENT,\n    ESTIMATED_PRICE_RANGE,\n    FEATURES,\n    ANALYSIS_TIMESTAMP,\n    \n    -- Tracking fields\n    CREATED_BY,\n    CREATED_AT,\n    UPDATED_AT,\n    \n    -- AI Model\n    AI_MODEL\nFROM CALLAWAY_IMG_COMPLETE.PUBLIC.CALLAWAY_CLUBS_FILE\nWHERE CLUB_TYPE IS NOT NULL;",
   "execution_count": null
  },
  {
   "cell_type": "markdown",
   "id": "b8040a09-44ea-4fd1-9ae2-9120904d26a4",
   "metadata": {
    "name": "AI_FILTER_MD",
    "collapsed": false
   },
   "source": "## AI FILTER - Classifies free-form prompt inputs into a boolean. Currently supports both text and image filtering\n\n#### `How does it work?` \nAI_FILTER is Snowflake's smart filtering function that lets you search your text data using natural language. Rather than writing complex SQL conditions, you simply describe what you're looking for, and it returns the matching records - like having a conversation with your database instead of writing code.\n\ni.e. Scratches, wear, used for example\n\nReference https://docs.snowflake.com/LIMITEDACCESS/snowflake-cortex/ai_filter"
  },
  {
   "cell_type": "code",
   "id": "d2673041-0647-4be2-b550-3af47c72d837",
   "metadata": {
    "language": "sql",
    "name": "cell11",
    "collapsed": false,
    "codeCollapsed": false
   },
   "outputs": [],
   "source": "-- Find reviews mentioning scratches, wear, used etc\nSELECT club_type, club_name, brand, model, year, confidence_score, classification_notes, created_at\nFROM CALLAWAY_IMG_COMPLETE.PUBLIC.CALLAWAY_CLUBS_FILTERED\nWHERE AI_FILTER('The notes mentions scratches or wear or used: ' || classification_notes)\nORDER BY created_at DESC;",
   "execution_count": null
  },
  {
   "cell_type": "markdown",
   "id": "1d86c517-d7d7-4bd2-94bf-0d0da84651f6",
   "metadata": {
    "name": "AI_AGG",
    "collapsed": false
   },
   "source": "## AI AGG - Reduces a column of text data using a natural language task description.\n\n#### `How Does it work? `\nAI_AGG is Snowflake's intelligent aggregation function that acts like a data analyst in a box. It groups your text data and then uses AI to analyze patterns, extract insights, and generate summaries across each group. Think of it as automatically distilling thousands of comments into actionable intelligence without manually reading each one.\n\nReference: https://docs.snowflake.com/LIMITEDACCESS/snowflake-cortex/ai_agg"
  },
  {
   "cell_type": "code",
   "id": "c822618b-6418-4bd3-a140-a3f44c3dae39",
   "metadata": {
    "language": "sql",
    "name": "cell9"
   },
   "outputs": [],
   "source": "-- Golf Club Analysis By Club Type and Brand\n--- The SUMMARIZE_AGG function will automatically condense the text data into meaningful summaries without requiring an explicit prompt, making it simpler to use than AI_AGG\n\nSELECT  CLUB_TYPE,\n        BRAND,\n        AI_AGG('Club Type: ' || CLUB_TYPE || \n               '\\n\\nBrand: ' || BRAND || \n               '\\n\\nAnalysis Notes: ' || CLASSIFICATION_NOTES, \n               'Analyze these golf club assessment notes for this specific club type and brand. Identify the top strengths and weaknesses mentioned in the classification notes. Provide 2-3 specific insights about common conditions, features, or issues found across this club type.') as analysis\nFROM CALLAWAY_IMG_COMPLETE.PUBLIC.CALLAWAY_CLUBS_FILTERED\nWHERE CLASSIFICATION_NOTES IS NOT NULL\n  AND TRIM(CLASSIFICATION_NOTES) <> ''\nGROUP BY CLUB_TYPE, BRAND;",
   "execution_count": null
  },
  {
   "cell_type": "markdown",
   "id": "4f7e1386-a22a-4c97-9815-1e183b514374",
   "metadata": {
    "name": "SUMMARIZE_AGG",
    "collapsed": false
   },
   "source": "## SUMMARIZE AGG - Summarizes a column of text data.\n\n#### `How does it work?` \nSUMMARIZE_AGG is Snowflake's automatic text condensing function that turns large volumes of text into concise, readable summaries. Unlike its cousin AI_AGG, it doesn't require custom prompts - just point it at your text data, group as needed, and it automatically distills key points while maintaining the essential meaning across each group.\n\nReference: https://docs.snowflake.com/LIMITEDACCESS/snowflake-cortex/ai_summarize_agg"
  },
  {
   "cell_type": "code",
   "id": "c6086d76-2040-43dd-9eb9-733fff250c68",
   "metadata": {
    "language": "sql",
    "name": "cell17"
   },
   "outputs": [],
   "source": "-- Golf Club Condition Analysis\n-- Generate summaries by condition category to understand different club assessments\nSELECT\n    CONDITION_ASSESSMENT,\n    SUMMARIZE_AGG(CLASSIFICATION_NOTES) AS condition_summary\nFROM CALLAWAY_IMG_COMPLETE.PUBLIC.CALLAWAY_CLUBS_FILTERED\nWHERE CLASSIFICATION_NOTES IS NOT NULL\n  AND TRIM(CLASSIFICATION_NOTES) <> ''\nGROUP BY CONDITION_ASSESSMENT\nORDER BY CONDITION_ASSESSMENT;",
   "execution_count": null
  },
  {
   "cell_type": "markdown",
   "id": "cd02d733-f94b-4199-822f-d77455d043c9",
   "metadata": {
    "name": "cell18",
    "collapsed": false
   },
   "source": "## AI CLASSIFY - Classifies text or images into categories that you specify.\n\n#### `How does it work? `\nAI_CLASSIFY is Snowflake's intelligent categorization function that automatically sorts your text data into custom categories you define. Simply provide your text and a list of categories, and it assigns each record to the most relevant bucket - turning unstructured comments into structured, analyzable data without manual tagging or complex rule creation\n\nReference: https://docs.snowflake.com/LIMITEDACCESS/snowflake-cortex/ai_classify"
  },
  {
   "cell_type": "code",
   "id": "4eeb5c14-5d94-416d-89f4-93e881417075",
   "metadata": {
    "language": "sql",
    "name": "AI_CLASSIFY"
   },
   "outputs": [],
   "source": "-- Golf Club Classification Analysis\n-- Categorize club assessment notes into specific issue/feature types\nSELECT  *,\n        AI_CLASSIFY(CLASSIFICATION_NOTES,\n        ['Club Head Condition', 'Shaft Performance', 'Grip Quality', 'Face Damage', 'Cosmetic Issues', 'Performance Features', 'Authenticity Verification', 'Value Assessment']) as analysis\nFROM CALLAWAY_IMG_COMPLETE.PUBLIC.CALLAWAY_CLUBS_FILTERED\nWHERE CLASSIFICATION_NOTES IS NOT NULL\n  AND TRIM(CLASSIFICATION_NOTES) <> '';",
   "execution_count": null
  },
  {
   "cell_type": "markdown",
   "id": "553820af-f2cf-49da-a299-392099752d0d",
   "metadata": {
    "name": "cell19",
    "collapsed": false
   },
   "source": "## AI ENTITY_SENTIMENT\n\nCortex AI ENTITY_SENTIMENT captures a spectrum of customer opinions beyond overall positive, negative, and neutral buckets. For aspect-based sentiment analysis, specify the content (such as a customer comment or a review) and the entities (aspects or categories) for which you want to analyze sentiment. ENTITY_SENTIMENT returns sentiment scores for each entity as well as an overall sentiment score.\n\n\nReference: https://docs.snowflake.com/en/user-guide/snowflake-cortex/sentiment"
  },
  {
   "cell_type": "code",
   "id": "b612cc46-acd6-4608-a530-2e210578e23d",
   "metadata": {
    "language": "sql",
    "name": "cell20",
    "collapsed": true,
    "codeCollapsed": true
   },
   "outputs": [],
   "source": "-- Golf Club Sentiment Analysis\n-- Analyze sentiment in club assessment notes to identify positive and negative trends\nSELECT  \n    CLUB_TYPE,\n    BRAND,\n    MODEL,\n    CLASSIFICATION_NOTES,\n    SENTIMENT(CLASSIFICATION_NOTES) as sentiment_category,\n    SENTIMENT_SCORE(CLASSIFICATION_NOTES) as sentiment_score\nFROM CALLAWAY_IMG_COMPLETE.PUBLIC.CALLAWAY_CLUBS_FILTERED\nWHERE CLASSIFICATION_NOTES IS NOT NULL\n  AND TRIM(CLASSIFICATION_NOTES) <> ''\nORDER BY sentiment_score DESC;",
   "execution_count": null
  },
  {
   "cell_type": "markdown",
   "id": "e1520d21-fb04-493d-9d4a-4aeee81eac09",
   "metadata": {
    "name": "V3",
    "collapsed": false
   },
   "source": "# V3 *NEW* - USE FILE TYPE & MULTI IMAGE SUPPORT W/CLAUDE\n"
  },
  {
   "cell_type": "code",
   "id": "17486b93-e073-4707-b85c-3efb6f29e6a0",
   "metadata": {
    "language": "python",
    "name": "cell29",
    "collapsed": true,
    "codeCollapsed": true
   },
   "outputs": [],
   "source": "# Define image in a stage and read the file\nimage=session.file.get_stream('@CALLAWAY_IMG_COMPLETE.PUBLIC.IMG_STAGE/ERD.jpg' , decompress=False).read() \n\n# Display the image\nst.image(image, width=1200)",
   "execution_count": null
  },
  {
   "cell_type": "code",
   "id": "cec0b118-37ae-4abc-8cba-f8877fda5aad",
   "metadata": {
    "language": "sql",
    "name": "cell23"
   },
   "outputs": [],
   "source": "/*\n-- Enhanced main table with all new fields for comprehensive golf club analysis\nCREATE OR REPLACE TABLE CALLAWAY_IMG_COMPLETE.PUBLIC.CALLAWAY_CLUBS_FILE_V3 (\n    -- Basic identification\n    IMAGE_ID VARCHAR(255) PRIMARY KEY,\n    \n    -- Club details (existing fields)\n    CLUB_TYPE VARCHAR(50),\n    CLUB_NAME VARCHAR(255),\n    BRAND VARCHAR(50),\n    MODEL VARCHAR(100),\n    YEAR NUMBER(4,0),\n    CLUB_CATEGORY VARCHAR(50),\n    SHAFT_TYPE VARCHAR(50),\n    SHAFT_FLEX VARCHAR(20),\n    SHAFT_LABEL VARCHAR(100),                    -- Moved from enhanced\n    LOFT FLOAT,\n    HAND VARCHAR(10),\n    \n    -- *** NEW ENHANCED CLUB SPECIFICATION FIELDS ***\n    CLUB_SUB_TYPE VARCHAR(50),                   -- NEW: Iron type, wedge type, etc.\n    SET_COMPOSITION VARCHAR(100),                -- NEW: Set information\n    LIE_ANGLE FLOAT,                            -- NEW: Lie angle in degrees\n    FACE_ANGLE VARCHAR(20),                     -- NEW: Open/Closed/Neutral\n    BOUNCE_ANGLE FLOAT,                         -- NEW: Bounce angle for wedges\n    GRIND_TYPE VARCHAR(50),                     -- NEW: Sole grind type\n    MODEL_DESIGNATION VARCHAR(100),             -- NEW: Specific model variants\n    SHAFT_LENGTH_INCHES FLOAT,                  -- NEW: Shaft length\n    \n    -- *** NEW DETAILED CONDITION ASSESSMENT FIELDS ***\n    OVERALL_GRADE NUMBER(3,1),                  -- NEW: Overall grade 1-10\n    FACE_SOLE_WEAR_GRADE VARCHAR(20),          -- NEW: Face/sole wear grade\n    FACE_SOLE_WEAR_DESCRIPTION VARCHAR(500),   -- NEW: Detailed wear description\n    SCRATCHES_GRADE VARCHAR(20),               -- NEW: Scratch severity grade\n    SCRATCHES_DESCRIPTION VARCHAR(500),        -- NEW: Scratch details\n    SCRATCHES_LOCATIONS ARRAY,                 -- NEW: Array of scratch locations\n    PAINT_CHIPS_GRADE VARCHAR(20),             -- NEW: Paint chip grade\n    PAINT_CHIPS_DESCRIPTION VARCHAR(500),      -- NEW: Paint chip details\n    PAINT_CHIPS_LOCATIONS ARRAY,              -- NEW: Array of paint chip locations\n    PUTTER_PAINT_WEAR_GRADE VARCHAR(20),       -- NEW: Putter-specific paint wear\n    GRIP_CONDITION VARCHAR(50),                -- NEW: Grip condition assessment\n    \n    -- *** NEW MARKET VALUATION FIELDS ***\n    RETAIL_PRICE NUMBER(8,2),                  -- NEW: Current retail price\n    TRADE_IN_VALUE NUMBER(8,2),                -- NEW: Trade-in/resale value\n    MARKET_DEMAND VARCHAR(20),                 -- NEW: Market demand level\n    \n    -- *** NEW TECHNOLOGY AND FEATURES FIELDS ***\n    TECHNOLOGY_TAGS ARRAY,                     -- NEW: Array of technology features\n    SPECIAL_DESIGNATIONS ARRAY,                -- NEW: Array of special designations\n    \n    -- Analysis fields (existing)\n    CONFIDENCE_SCORE FLOAT,\n    CLASSIFICATION_NOTES VARCHAR(16777216),\n    CONDITION_ASSESSMENT VARCHAR(50),\n    ESTIMATED_PRICE_RANGE VARCHAR(50),\n    FEATURES VARIANT,\n    ANALYSIS_TIMESTAMP TIMESTAMP_LTZ(9) DEFAULT CURRENT_TIMESTAMP(),\n    \n    -- File metadata from DIRECTORY()\n    RELATIVE_PATH VARCHAR(16777216),\n    FILE_URL VARCHAR(16777216),\n    SIZE NUMBER,\n    LAST_MODIFIED TIMESTAMP_LTZ,\n    MD5 VARCHAR(32),\n    \n    -- Tracking fields\n    CREATED_BY VARCHAR(100) DEFAULT CURRENT_USER(),\n    CREATED_AT TIMESTAMP_LTZ(9) DEFAULT CURRENT_TIMESTAMP(),\n    UPDATED_AT TIMESTAMP_LTZ(9) DEFAULT CURRENT_TIMESTAMP(),\n    AI_MODEL VARCHAR(255)\n);\n\n-- *** NEW TABLE FOR MULTI-IMAGE REFERENCES V3 ***\nCREATE OR REPLACE TABLE CALLAWAY_IMG_COMPLETE.PUBLIC.IMAGE_REFERENCES_V3 (\n    IMG FILE, \n    REFERENCE_ID VARCHAR(255) PRIMARY KEY DEFAULT (UUID_STRING()),\n    PRIMARY_IMAGE_ID VARCHAR(255),\n    REFERENCE_IMAGE_PATH VARCHAR(500),\n    IMAGE_SEQUENCE NUMBER(3,0),\n    REFERENCE_TYPE VARCHAR(50), -- 'MULTI_ANGLE', 'SET_MEMBER', 'COMPARISON'\n    CREATED_AT TIMESTAMP_LTZ(9) DEFAULT CURRENT_TIMESTAMP(),\n    FOREIGN KEY (PRIMARY_IMAGE_ID) REFERENCES CALLAWAY_CLUBS_FILE_V3(IMAGE_ID)\n);\n\n-- *** NEW TABLE FOR DETAILED DEFECT OBSERVATIONS V3 ***\nCREATE OR REPLACE TABLE CALLAWAY_IMG_COMPLETE.PUBLIC.CLUB_DEFECT_OBSERVATIONS_V3 (\n    OBSERVATION_ID VARCHAR(255) PRIMARY KEY,\n    IMAGE_ID VARCHAR(600),\n    DEFECT_TYPE VARCHAR(600),\n    DEFECT_LOCATION VARCHAR(600),\n    DEFECT_SIZE VARCHAR(600),\n    DEFECT_LENGTH_MM FLOAT,\n    DEFECT_WIDTH_MM FLOAT,\n    DEFECT_DEPTH VARCHAR(600),\n    IMPACT_ON_PERFORMANCE VARCHAR(600),\n    CREATED_AT TIMESTAMP_LTZ(9) DEFAULT CURRENT_TIMESTAMP(),\n    FOREIGN KEY (IMAGE_ID) REFERENCES CALLAWAY_CLUBS_FILE_V3(IMAGE_ID)\n);",
   "execution_count": null
  },
  {
   "cell_type": "markdown",
   "id": "5b445ec1-6d53-400b-ba86-f3be40a0a0b2",
   "metadata": {
    "name": "cell25",
    "collapsed": false
   },
   "source": "# 💰 Snowflake Cortex AI Cost Analysis\n## 🚀 Executive Summary\n> **Bottom Line:** Processing golf club images with Snowflake Cortex AI costs less than **1 cent per image!** \n---\nI did 7 CORTEX.COMPLETE MULTIMODAL (see image for the count) runs today with 57 total images (also in same pic), here's the cost breakdown:\n- 0.1515 Total Credits (see attached image of a streamlit app which monitors AI cost looking at SNOWFLAKE.ACCOUNT_USAGE.CORTEX_FUNCTIONS_USAGE_HISTORY)\n- 0.1515 credits ÷ 7 queries = 0.0216 credits per query\n- 0.0216 credits × $2.40 / credit = $0.052 per query (about 5.2 cents per query)\n- 0.1515 credits × $2.40 / credit = $0.36 (36 cents total)\n- Average credits per query = 0.1515 ÷ 7 = 0.0216 credits\n- Cost per image = $0.36 ÷ 57 images = $0.006 (about 0.6 cents per image)"
  },
  {
   "cell_type": "code",
   "id": "9c97ad75-bfe6-4d8b-b6da-1d44ec7c50b0",
   "metadata": {
    "language": "sql",
    "name": "cell24"
   },
   "outputs": [],
   "source": "USE ROLE ACCOUNTADMIN;",
   "execution_count": null
  },
  {
   "cell_type": "code",
   "id": "8fefb679-b50b-44a5-b745-61b9707d8194",
   "metadata": {
    "language": "python",
    "name": "cell1"
   },
   "outputs": [],
   "source": "import streamlit as st\nimport pandas as pd\nimport snowbooks_extras\nimport streamlit as st\nfrom snowflake.snowpark.context import get_active_session\nsession = get_active_session()",
   "execution_count": null
  },
  {
   "cell_type": "code",
   "id": "2d0459ad-ad8f-4a1f-b900-2d8d4946b170",
   "metadata": {
    "language": "sql",
    "name": "ALL_IMAGES"
   },
   "outputs": [],
   "source": "SELECT * from CALLAWAY_IMG_COMPLETE.PUBLIC.IMAGE_REFERENCES_V3;",
   "execution_count": null
  },
  {
   "cell_type": "code",
   "id": "46b198fa-b7da-4a57-b34e-0c8cdddc04f6",
   "metadata": {
    "language": "sql",
    "name": "TOTAL_QUERIES_TODAY"
   },
   "outputs": [],
   "source": "SELECT COUNT(*) as TOTAL_QUERIES_TODAY\nFROM CALLAWAY_IMG_COMPLETE.PUBLIC.CALLAWAY_CLUBS_FILE_V3\nWHERE DATE(CREATED_AT) = CURRENT_DATE();",
   "execution_count": null
  },
  {
   "cell_type": "code",
   "id": "ed551bd8-a9a6-443a-b0f2-5936ede59e37",
   "metadata": {
    "language": "sql",
    "name": "TOTAL_IMAGES_PROCESSED"
   },
   "outputs": [],
   "source": "SELECT COUNT(*) as TOTAL_IMAGE_REFERENCES_TODAY\nFROM CALLAWAY_IMG_COMPLETE.PUBLIC.IMAGE_REFERENCES_V3\nWHERE DATE(CREATED_AT) = CURRENT_DATE();",
   "execution_count": null
  },
  {
   "cell_type": "code",
   "id": "e0e6ce01-7f10-42fd-a88f-792c9233444f",
   "metadata": {
    "language": "sql",
    "name": "cell27"
   },
   "outputs": [],
   "source": "SELECT * FROM CALLAWAY_IMG_COMPLETE.PUBLIC.CLUB_DEFECT_OBSERVATIONS_V3\nWHERE DATE(CREATED_AT) = CURRENT_DATE()\nORDER BY CREATED_AT DESC;",
   "execution_count": null
  },
  {
   "cell_type": "code",
   "id": "37de48fe-56aa-4f6a-a273-d2def4d084f5",
   "metadata": {
    "language": "sql",
    "name": "ALL_FILE_DATA",
    "collapsed": true,
    "codeCollapsed": true
   },
   "outputs": [],
   "source": "SELECT * FROM CALLAWAY_IMG_COMPLETE.PUBLIC.CALLAWAY_CLUBS_FILE_V3\nORDER BY ANALYSIS_TIMESTAMP DESC;",
   "execution_count": null
  },
  {
   "cell_type": "code",
   "id": "5efda59d-7520-45d3-a629-cc478876871f",
   "metadata": {
    "language": "sql",
    "name": "REFERENCE_DATA",
    "codeCollapsed": true,
    "collapsed": true
   },
   "outputs": [],
   "source": "SELECT * FROM  CALLAWAY_IMG_COMPLETE.PUBLIC.IMAGE_REFERENCES_V3 \nWHERE DATE(CREATED_AT) = CURRENT_DATE()\nORDER BY CREATED_AT DESC;",
   "execution_count": null
  },
  {
   "cell_type": "code",
   "id": "d3008303-fd9d-414c-8d23-0aa34d9ff9bf",
   "metadata": {
    "language": "sql",
    "name": "cell22"
   },
   "outputs": [],
   "source": "SELECT SNOWFLAKE.CORTEX.COMPLETE(\n    'claude-4-sonnet',\n    PROMPT('Analyze image {0}, image {1}, image {2}, image {3}, image {4}, image {5}, image {6}, image {7} of the same golf club comprehensively and extract ALL possible information. Return ONLY valid JSON with this complete structure:\n    [\n    \"club_type\": \"driver/fairway_wood/hybrid/iron/wedge/putter\",\n    \"club_name\": \"full descriptive name\",\n    \"brand\": \"manufacturer name\", \n    \"model\": \"specific model name\",\n    \"year\": 2023,\n    \"club_category\": \"game_improvement/players/distance/forgiveness\",\n    \"shaft_type\": \"steel/graphite/hybrid\",\n    \"shaft_flex\": \"extra_stiff/stiff/regular/senior/ladies\",\n    \"shaft_label\": \"shaft brand and model if visible\",\n    \"loft\": 10.5,\n    \"hand\": \"right/left\",\n    \"club_sub_type\": \"cavity_back/blade/mallet/etc\",\n    \"set_composition\": \"individual/set_member/part_of_set\",\n    \"lie_angle\": 59.0,\n    \"face_angle\": \"neutral/open/closed\",\n    \"bounce_angle\": 12.0,\n    \"grind_type\": \"sole_grind_if_wedge\",\n    \"model_designation\": \"specific_variant_or_edition\",\n    \"shaft_length_inches\": 45.0,\n    \"overall_grade\": 8.5,\n    \"face_sole_wear_grade\": \"excellent/very_good/good/fair/poor\",\n    \"face_sole_wear_description\": \"detailed description of face and sole condition including groove wear, impact marks, etc\",\n    \"scratches_grade\": \"none/minor/moderate/severe\",\n    \"scratches_description\": \"detailed description of all visible scratches, their location and severity\",\n    \"scratches_locations\": [\"face\", \"sole\", \"crown\", \"back\"],\n    \"paint_chips_grade\": \"none/minor/moderate/severe\", \n    \"paint_chips_description\": \"detailed description of paint/finish condition\",\n    \"paint_chips_locations\": [\"crown\", \"sole\", \"back\"],\n    \"putter_paint_wear_grade\": \"excellent/good/fair/poor\",\n    \"grip_condition\": \"excellent/very_good/good/fair/poor/needs_replacement\",\n    \"retail_price\": 399.99,\n    \"trade_in_value\": 150.00,\n    \"market_demand\": \"high/medium/low\",\n    \"technology_tags\": [\"technology_1\", \"technology_2\", \"specific_features\"],\n    \"special_designations\": [\"tour_issue\", \"limited_edition\", \"custom\", \"prototype\"],\n    \"confidence_score\": 0.95,\n    \"classification_notes\": \"comprehensive summary including distinguishing features, unique markings, condition assessment, technology features, and any special characteristics observed across all images\",\n    \"condition_assessment\": \"excellent/very_good/good/fair/poor\",\n    \"estimated_price_range\": \"$150-200\",\n    \"features\": [\n        \"adjustable\": true,\n        \"forged\": false,\n        \"cavity_back\": true,\n        \"face_insert\": false,\n        \"weight_ports\": true,\n        \"alignment_aids\": false,\n        \"special_technology\": \"brief_description\"\n    ]]\n    \n    Use proper JSON syntax with curly braces in your response, not square brackets. Grade condition 1-10 scale. Examine all angles for comprehensive analysis. Extract maximum data from all images provided.', \n        TO_FILE('@IMG_STAGE', 'W1.JPG'),\n        TO_FILE('@IMG_STAGE', 'W2.JPG'),\n        TO_FILE('@IMG_STAGE', 'W3.JPG'),\n        TO_FILE('@IMG_STAGE', 'W4.JPG'),\n        TO_FILE('@IMG_STAGE', 'W5.JPG'),\n        TO_FILE('@IMG_STAGE', 'W6.JPG'),\n        TO_FILE('@IMG_STAGE', 'W7.JPG'),\n        TO_FILE('@IMG_STAGE', 'W8.JPG'))\n);",
   "execution_count": null
  },
  {
   "cell_type": "code",
   "id": "3e2ce45d-069e-49a1-8d35-9797251633b2",
   "metadata": {
    "language": "sql",
    "name": "cell28",
    "codeCollapsed": false
   },
   "outputs": [],
   "source": "SELECT SNOWFLAKE.CORTEX.COMPLETE(\n    'claude-4-sonnet',\n    PROMPT('Analyze image {0}, image {1}, image {2}, and image {3} of the same golf club. Identify brand, model, type, loft, and grade condition 1-10. Return JSON with club_type, brand, model, loft, overall_grade, condition_assessment, estimated_price_range.', TO_FILE('@IMG_STAGE', 'Opus_1.jpg'), \nTO_FILE('@IMG_STAGE', 'Opus_2.jpg'), \nTO_FILE('@IMG_STAGE', 'Opus_3.jpg'), \nTO_FILE('@IMG_STAGE', 'Opus_4.jpg'))\n)",
   "execution_count": null
  },
  {
   "cell_type": "code",
   "id": "c3cc1736-27c4-4729-b911-5e0b3f72541d",
   "metadata": {
    "language": "sql",
    "name": "cell26"
   },
   "outputs": [],
   "source": "SELECT \n    SERVICE_TYPE,\n    DATE_TRUNC('MONTH', END_TIME) as MONTH,\n    SUM(CREDITS_USED) as TOTAL_CREDITS,\n    COUNT(DISTINCT DATE(END_TIME)) as DAYS_WITH_USAGE,\n    ROUND(SUM(CREDITS_USED) / COUNT(DISTINCT DATE(END_TIME)), 2) as AVG_DAILY_CREDITS\nFROM SNOWFLAKE.ACCOUNT_USAGE.METERING_HISTORY\nWHERE END_TIME >= DATEADD('MONTH', -1, CURRENT_DATE)\nGROUP BY 1, 2\nORDER BY 3 DESC;",
   "execution_count": null
  }
 ]
}